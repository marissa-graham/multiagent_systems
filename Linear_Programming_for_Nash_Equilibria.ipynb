{
  "nbformat": 4,
  "nbformat_minor": 0,
  "metadata": {
    "colab": {
      "name": "Linear Programming for Nash Equilibria.ipynb",
      "version": "0.3.2",
      "provenance": [],
      "include_colab_link": true
    },
    "kernelspec": {
      "name": "python3",
      "display_name": "Python 3"
    }
  },
  "cells": [
    {
      "cell_type": "markdown",
      "metadata": {
        "id": "view-in-github",
        "colab_type": "text"
      },
      "source": [
        "<a href=\"https://colab.research.google.com/github/marissa-graham/multiagent_systems/blob/master/Linear_Programming_for_Nash_Equilibria.ipynb\" target=\"_parent\"><img src=\"https://colab.research.google.com/assets/colab-badge.svg\" alt=\"Open In Colab\"/></a>"
      ]
    },
    {
      "metadata": {
        "id": "gOEf6D4h8eU4",
        "colab_type": "text"
      },
      "cell_type": "markdown",
      "source": [
        "# Instructions"
      ]
    },
    {
      "metadata": {
        "id": "nU7Xur6b6v3p",
        "colab_type": "text"
      },
      "cell_type": "markdown",
      "source": [
        "Use a linear programming solver to find the Nash equilibrium for the following games:\n",
        "\n",
        "* Battle of the Sexes (page 58-59 of text).\n",
        "* Rock, Paper Scissors (pages 57-58 of the text).\n",
        "* A 3x3 zero-sum game that you design. The solution to this game must be a mixed strategy and the payoff matrix cannot be symmetric.\n",
        "\n",
        "Do your solutions make sense? Justify that the solutions are indeed equilbria for the zero-sum games, and discuss whether the solution returned by your program is correct for the Battle of the Sexes game."
      ]
    },
    {
      "metadata": {
        "id": "gppIYqKy-Moz",
        "colab_type": "text"
      },
      "cell_type": "markdown",
      "source": [
        "## Email notes\n",
        "\n",
        " At least one of the games isn't zero sum. The solver will return a maximin solution -- that is what it does -- but solution pair may produced by the two maximin solutions may not be a Nash equilibrium.\n",
        "\n",
        "You can check whether the pair is a Nash equilibrium without knowing what the actual Nash equilibria are. See if either player has a unilateral incentive to change from the pair of maximin solutions. If one does, then the solution is not a Nash equilibrium."
      ]
    },
    {
      "metadata": {
        "id": "QMWJGYid64kI",
        "colab_type": "text"
      },
      "cell_type": "markdown",
      "source": [
        "# Installing and importing modules"
      ]
    },
    {
      "metadata": {
        "id": "bJILfiu_6sFk",
        "colab_type": "code",
        "outputId": "c3f449b0-ae72-4f31-f0be-c03af2544550",
        "colab": {
          "base_uri": "https://localhost:8080/",
          "height": 121
        }
      },
      "cell_type": "code",
      "source": [
        "!pip install cvxopt"
      ],
      "execution_count": 0,
      "outputs": [
        {
          "output_type": "stream",
          "text": [
            "Collecting cvxopt\n",
            "\u001b[?25l  Downloading https://files.pythonhosted.org/packages/57/29/9801ad6e1ea30e44711164dd44338d0a5a85d18b4a8ff95500f7acc615de/cvxopt-1.2.1-cp36-cp36m-manylinux1_x86_64.whl (11.6MB)\n",
            "\u001b[K    100% |████████████████████████████████| 11.6MB 2.6MB/s \n",
            "\u001b[?25hInstalling collected packages: cvxopt\n",
            "Successfully installed cvxopt-1.2.1\n"
          ],
          "name": "stdout"
        }
      ]
    },
    {
      "metadata": {
        "id": "-R4L7YoU6dwq",
        "colab_type": "code",
        "colab": {}
      },
      "cell_type": "code",
      "source": [
        "from cvxopt import matrix, solvers\n",
        "import numpy as np"
      ],
      "execution_count": 0,
      "outputs": []
    },
    {
      "metadata": {
        "id": "auWjDAqx7HuB",
        "colab_type": "text"
      },
      "cell_type": "markdown",
      "source": [
        "# Setting up solver"
      ]
    },
    {
      "metadata": {
        "id": "asih_RE68nzt",
        "colab_type": "text"
      },
      "cell_type": "markdown",
      "source": [
        "### Notes about cvxopt and setup\n",
        "\n",
        "\n"
      ]
    },
    {
      "metadata": {
        "id": "TuQ8NEkB_kL2",
        "colab_type": "text"
      },
      "cell_type": "markdown",
      "source": [
        "cvxopt is a Python module for convex optimization\n",
        "\n",
        "(Fun fact we used it in ACME like four years ago and I didn't realize 'cvx' was an abbreviation for 'convex' until Dr. Evans told me so early this week)\n",
        "\n",
        "You set up a cvxopt matrix object like a numpy array. For the linear program\n",
        "\n",
        "$$ \\text{minimize } c^Tx$$\n",
        "$$ \\text{subject to } Gx\\leq h, Ax = b, $$\n",
        "\n",
        "you call `solvers.lp(c,G,h,A,b)` to get the solution `sol` and access the solution as `sol['x']`."
      ]
    },
    {
      "metadata": {
        "id": "oApEWQ_BAg_P",
        "colab_type": "text"
      },
      "cell_type": "markdown",
      "source": [
        "How do we turn that into this?\n",
        "\n",
        "$$ \\text{minimize } u_1^* $$\n",
        "$$ \\text{subject to } \\sum_{k\\in A_2} u_1(a_1^j,a_2^k)s_2^k \\leq u_1^* \\forall j\\in A_1 $$\n",
        "$$\\sum_{k\\in A_2} s_2^k = 1, s_2^k\\geq 0. $$"
      ]
    },
    {
      "metadata": {
        "id": "aoz7fe4OAh2F",
        "colab_type": "text"
      },
      "cell_type": "markdown",
      "source": [
        "* Let $n$ be the number of actions.\n",
        "\n",
        "* $x$ is $u_1^*$ tacked onto the vector of $s_2^k$'s, which is length $n$. So, $A$ is a (length $n+1$) vector of ones except for the first entry, which has a zero, appropriately shaped to get a dot product, and $b$ is just a 1x1 with a 1 in it. \n",
        "\n",
        "* $c$ is a vector with a 1 tacked onto a zero vector of length $n$ (total length $n+1$)\n",
        "\n",
        "* To get the nonnegativity condition, we'll tack a negative identity matrix (only over on the right hand side, it can skip $u_1^*$, so it only takes up $n$ rows) onto the bottom of $G$ and a corresponding bunch of zeros onto the bottom of $h$. \n",
        "\n",
        "* Let's subtract $u_1^*$ over, since we're multiplying by it, so $h$ is just a vector of zeros. Length $2n$. \n",
        "\n",
        "* The hard(est) part is then the bit where we figure out how to set up the top part of $G$. It'll be based on the game matrix, and we get one row for each action, because of that $\\forall j$ condition. We know $G$ is going to be $2n \\times n$."
      ]
    },
    {
      "metadata": {
        "id": "xmIibJvqIrSW",
        "colab_type": "text"
      },
      "cell_type": "markdown",
      "source": [
        "Constructing the first $n$ rows of $G$:\n",
        "\n",
        "* The first column is just all -1, since we subtracted over the $u_1^*$.\n",
        "* Fix a value of $j$. This will be the $j$-th row. We want it to be utilities of player 1 playing his or her $j$-th action for each action of player 2. This is just the $j$-th row of the game matrix slice for player 1. So we just put that whole thing into the top right corner of $G$. Wow. That's really, really easy."
      ]
    },
    {
      "metadata": {
        "id": "kmaxXq0iK_wi",
        "colab_type": "text"
      },
      "cell_type": "markdown",
      "source": [
        "### Actual code"
      ]
    },
    {
      "metadata": {
        "id": "qHYPSxEz6mI9",
        "colab_type": "code",
        "colab": {}
      },
      "cell_type": "code",
      "source": [
        "class NormalFormGame:\n",
        "    \"\"\"\n",
        "    Work with games in normal form given a 3-D payoff matrix.\n",
        "    \n",
        "    M is the game matrix, as a numpy array.\n",
        "    \n",
        "    - If n is the number of actions, its shape will be n x n x 2. \n",
        "    - M[:,:,0] is the payoff matrix for Player 1\n",
        "    - M[:,:,1] is the payoff matrix for Player 2\n",
        "    - The rows are indexed by the actions of Player 1\n",
        "    - The columns are indexed by the actions of Player 2\n",
        "    \"\"\"\n",
        "    def __init__(self, M):\n",
        "        \n",
        "        self.M = M\n",
        "        \n",
        "        if self.is_zero_sum() == False:\n",
        "            print(\"WARNING: NOT A ZERO SUM GAME.\")\n",
        "            \n",
        "        self.p1 = self.solve(M)\n",
        "        self.p2 = self.solve(M[:,:,[1,0]])\n",
        "        print(\"Player 1 Solution:\", self.p1)\n",
        "        print(\"Player 2 Solution:\", self.p2)\n",
        "        print(\"Nash equilibrium?\", self.is_Nash_equilibrium())\n",
        "    \n",
        "    def solve(self, M):\n",
        "        \n",
        "        n = M.shape[0]\n",
        "        b = matrix([1.0])\n",
        "        h = matrix(np.zeros(2*n))\n",
        "        \n",
        "        pre_A = np.ones(n+1)\n",
        "        pre_A[0] = 0.0\n",
        "        A = matrix(pre_A.reshape((1,n+1)))\n",
        "        \n",
        "        pre_c = np.zeros(n+1)\n",
        "        pre_c[0] = 1.0\n",
        "        c = matrix(pre_c)\n",
        "        \n",
        "        pre_G = np.zeros((2*n,n+1))\n",
        "        pre_G[n:,1:] = -1.0*np.eye(n) # Nonnegativity of s_k's\n",
        "        pre_G[:n,0] = -1.0*np.ones(n) # Subtracted over the u1*'s\n",
        "        pre_G[:n,1:] = M[:,:,0] # Utilities for player 1\n",
        "        G = matrix(pre_G)\n",
        "        \n",
        "        s = solvers.lp(c,G,h,A,b,solver='glpk',\n",
        "                       options={'glpk':{'msg_lev':'GLP_MSG_OFF'}})\n",
        "        return s['x']\n",
        "    \n",
        "    def is_zero_sum(self):\n",
        "        \"\"\"Check if it's a zero sum game.\"\"\"\n",
        "        return np.all(np.sum(self.M,axis=2) == np.zeros(self.M.shape[:-1]))\n",
        "        \n",
        "    def is_Nash_equilibrium(self):\n",
        "        \"\"\"\n",
        "        Check if either player has a unilateral incentive to change.\n",
        "        \n",
        "        They'll have a unilateral incentive to change if there is an action\n",
        "        that gives them higher utility with respect to the other player's \n",
        "        strategy.\n",
        "        \"\"\"\n",
        "        \n",
        "        u1 = np.max(np.dot(self.M[:,:,0], self.p2[1:]))\n",
        "        u2 = np.max(np.dot(self.M[:,:,1].T, self.p1[1:]))\n",
        "        \n",
        "        # Not requiring a strict Nash equilibrium\n",
        "        if self.p1[0] >= u1 and self.p2[0] >= u2:\n",
        "            return True\n",
        "        \n",
        "        else:\n",
        "            return False"
      ],
      "execution_count": 0,
      "outputs": []
    },
    {
      "metadata": {
        "id": "_gKEb3N8MrKx",
        "colab_type": "text"
      },
      "cell_type": "markdown",
      "source": [
        "# Use the solver and explain results"
      ]
    },
    {
      "metadata": {
        "id": "BX6NlBdwaK3-",
        "colab_type": "text"
      },
      "cell_type": "markdown",
      "source": [
        "## Set up the game matrices"
      ]
    },
    {
      "metadata": {
        "id": "uMMv5UW5NAQs",
        "colab_type": "text"
      },
      "cell_type": "markdown",
      "source": [
        "Create the game matrices and make sure they're the right shape. Also figure out the right way to switch the players easily."
      ]
    },
    {
      "metadata": {
        "id": "iFR-tR9lHaNH",
        "colab_type": "code",
        "outputId": "8641d7d0-464c-48c4-b50b-fd3ca160fdca",
        "colab": {
          "base_uri": "https://localhost:8080/",
          "height": 84
        }
      },
      "cell_type": "code",
      "source": [
        "rps = np.array([[[0,0],[-1,1],[1,-1]],\n",
        "                [[1,-1],[0,0],[-1,1]],\n",
        "                [[-1,1],[1,-1],[0,0]]],dtype=np.float)\n",
        "print(rps[:,:,0])\n",
        "print(rps[:,:,[1,0]].shape) # Switch the order of the players\n",
        "\n",
        "bs = np.array([[[2,1],[0,0]],\n",
        "               [[0,0],[1,2]]],dtype=np.float)\n",
        "\n",
        "# Player 1 benefits from coordinated action, Player 2 prefers mixed.\n",
        "# Player 2 has a mild incentive to play action 3, but won't much, because \n",
        "# then player 1 can play action 3 and player 2 will get the worst case.\n",
        "mine = np.array([[[2,-2],[-1,1],[-2,2]],\n",
        "                [[-1,1],[2,-2],[-2,2]],\n",
        "                [[-1,1],[-1,1],[4,-4]]],dtype=np.float)"
      ],
      "execution_count": 0,
      "outputs": [
        {
          "output_type": "stream",
          "text": [
            "[[ 0. -1.  1.]\n",
            " [ 1.  0. -1.]\n",
            " [-1.  1.  0.]]\n",
            "(3, 3, 2)\n"
          ],
          "name": "stdout"
        }
      ]
    },
    {
      "metadata": {
        "id": "3gvPUe8_aGTZ",
        "colab_type": "text"
      },
      "cell_type": "markdown",
      "source": [
        "## Run the solver for each game and check if it's a Nash equilibrium"
      ]
    },
    {
      "metadata": {
        "id": "sfEiXrjtPE8R",
        "colab_type": "text"
      },
      "cell_type": "markdown",
      "source": [
        "### Battle of the Sexes\n",
        "\n",
        "Since it's not a zero sum game, the solver only gives us a minimax solution for each player. Each player does best by favoring the other's preferred restaurant, but still choosing their own a third time.\n",
        "\n",
        "This not a Nash equilibrium, since if your spouse is choosing your preferred restaurant 2/3rds of the time, you clearly benefit from choosing it more often."
      ]
    },
    {
      "metadata": {
        "id": "ut_Y6ifsNcY6",
        "colab_type": "code",
        "outputId": "7e7a0fc2-9733-4036-9e06-c79880cee2b9",
        "colab": {
          "base_uri": "https://localhost:8080/",
          "height": 185
        }
      },
      "cell_type": "code",
      "source": [
        "BS_1 = NormalFormGame(bs)"
      ],
      "execution_count": 0,
      "outputs": [
        {
          "output_type": "stream",
          "text": [
            "WARNING: NOT A ZERO SUM GAME.\n",
            "Player 1 Solution: [ 6.67e-01]\n",
            "[ 3.33e-01]\n",
            "[ 6.67e-01]\n",
            "\n",
            "Player 2 Solution: [ 6.67e-01]\n",
            "[ 6.67e-01]\n",
            "[ 3.33e-01]\n",
            "\n",
            "Nash equilibrium? False\n"
          ],
          "name": "stdout"
        }
      ]
    },
    {
      "metadata": {
        "id": "ROesfZzGayrE",
        "colab_type": "text"
      },
      "cell_type": "markdown",
      "source": [
        "### Rock Paper Scissors\n",
        "\n",
        "This is a zero sum game, and the Nash equilibrium is simply to play uniformly randomly. If either player adjusted their strategy to favor a certain option, the other player would be able to adjust their solution to exploit that, incentivizing the first player to adjust accordingly, etc.; we would not have an equilibrium."
      ]
    },
    {
      "metadata": {
        "id": "R5hUoQZUNDnH",
        "colab_type": "code",
        "outputId": "b3a8e267-e82c-4db8-c7da-c0d196cc2375",
        "colab": {
          "base_uri": "https://localhost:8080/",
          "height": 202
        }
      },
      "cell_type": "code",
      "source": [
        "RPS = NormalFormGame(rps)"
      ],
      "execution_count": 0,
      "outputs": [
        {
          "output_type": "stream",
          "text": [
            "Player 1 Solution: [ 0.00e+00]\n",
            "[ 3.33e-01]\n",
            "[ 3.33e-01]\n",
            "[ 3.33e-01]\n",
            "\n",
            "Player 2 Solution: [ 0.00e+00]\n",
            "[ 3.33e-01]\n",
            "[ 3.33e-01]\n",
            "[ 3.33e-01]\n",
            "\n",
            "Nash equilibrium? True\n"
          ],
          "name": "stdout"
        }
      ]
    },
    {
      "metadata": {
        "id": "eyE6zUcPbNlf",
        "colab_type": "text"
      },
      "cell_type": "markdown",
      "source": [
        "### My game\n",
        "\n",
        "I made a game that favored coordinated actions for Player 1, and mixed for Player 2, favoring action 3 for Player 2 somewhat, but significantly favoring \"both play action 3\" for Player 1, disincentivizing Player 2 to play it. I also made sure the game was not biased towards either player\n",
        "\n",
        "As a result, neither player favors action 3, and instead favors a mix of actions 1 and 2. This isn't a Nash equilibrium, since if Player 2 favors action 3, Player 1 can exploit this by favoring it more, but the more Player 1 favors action 3, the less Player 2 will play action 3, disincentivizing Player 1 to play action 3.\n",
        "\n",
        "I assumed by \"symmetric\" you meant with respect to the payoff matrix for each player. It seems like it'd be difficult to find a Nash equilibrium for this game, but it's also possible I'm not checking for them correctly. I have to turn it in right now either way, though, because I procrastinated this and I need to catch the 10:47 train if I want to get home before midnight, but there's no wifi on the train to submit it."
      ]
    },
    {
      "metadata": {
        "id": "Gw_yG-xKNO_v",
        "colab_type": "code",
        "outputId": "d0bdc3d6-4234-493b-9401-5fd2906eb7fc",
        "colab": {
          "base_uri": "https://localhost:8080/",
          "height": 202
        }
      },
      "cell_type": "code",
      "source": [
        "mygame = NormalFormGame(mine)"
      ],
      "execution_count": 0,
      "outputs": [
        {
          "output_type": "stream",
          "text": [
            "Player 1 Solution: [-4.26e-02]\n",
            "[ 2.55e-01]\n",
            "[ 4.26e-01]\n",
            "[ 3.19e-01]\n",
            "\n",
            "Player 2 Solution: [ 4.26e-02]\n",
            "[ 2.55e-01]\n",
            "[ 4.26e-01]\n",
            "[ 3.19e-01]\n",
            "\n",
            "Nash equilibrium? False\n"
          ],
          "name": "stdout"
        }
      ]
    }
  ]
}